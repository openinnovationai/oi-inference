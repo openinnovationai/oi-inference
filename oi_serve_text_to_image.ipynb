{
 "cells": [
  {
   "cell_type": "markdown",
   "id": "81121296-ddbf-47a0-aef8-1adda6d9c8fe",
   "metadata": {},
   "source": [
    "### OICM Inference for models deployed with: OI SERVE\n",
    "##### text-to-image"
   ]
  },
  {
   "cell_type": "code",
   "execution_count": 3,
   "id": "1a4e4c02-2e4a-4008-a889-93c5b79d1f47",
   "metadata": {},
   "outputs": [],
   "source": [
    "import requests\n",
    "import json\n",
    "import os"
   ]
  },
  {
   "cell_type": "code",
   "execution_count": 4,
   "id": "b727fc24-64e5-411e-83e9-2f9933bc9dd4",
   "metadata": {},
   "outputs": [],
   "source": [
    "api_key = os.getenv('OI_API_KEY') # Your valid api key\n",
    "model_version_id = os.getenv('OI_MODEL_VERSION_ID') # model version id\n",
    "base_url =f\"\" # your valid model url\n",
    "# example: https://inference.{oicm_host}/models/{model_version_id}/proxy/vllm/v1\n",
    "# oicm_host: is the platform url ex: develop.openinnovation.ai\n",
    "\n",
    "base_url = f\"https://inference.develop.openinnovation.ai/models/{model_version_id}/proxy/v1\"\n",
    "\n",
    "headers = {\n",
    "    \"Authorization\": f\"Bearer {api_key}\"\n",
    "}"
   ]
  },
  {
   "cell_type": "markdown",
   "id": "b4e269e0-37d7-4d9c-900e-287850ecf100",
   "metadata": {},
   "source": [
    "#### Call the model "
   ]
  },
  {
   "cell_type": "code",
   "execution_count": 28,
   "id": "ee0c2bb9-b2a7-4aaa-8931-094ac3e00167",
   "metadata": {},
   "outputs": [],
   "source": [
    "payload = {\n",
    "    \"prompt\": \"A capybara holding a sign that reads Hello World\"\",\n",
    "    \"num_inference_steps\": 20,\n",
    "    \"high_noise_frac\": 0.8\n",
    "}\n",
    "\n",
    "response = requests.post(f\"{base_url}/generate-image\", headers=headers, json=payload)"
   ]
  },
  {
   "cell_type": "code",
   "execution_count": null,
   "id": "a3d9bc19-6412-4af9-9a93-ee7c874e6840",
   "metadata": {},
   "outputs": [],
   "source": []
  }
 ],
 "metadata": {
  "kernelspec": {
   "display_name": "Python 3 (ipykernel)",
   "language": "python",
   "name": "python3"
  },
  "language_info": {
   "codemirror_mode": {
    "name": "ipython",
    "version": 3
   },
   "file_extension": ".py",
   "mimetype": "text/x-python",
   "name": "python",
   "nbconvert_exporter": "python",
   "pygments_lexer": "ipython3",
   "version": "3.12.3"
  }
 },
 "nbformat": 4,
 "nbformat_minor": 5
}

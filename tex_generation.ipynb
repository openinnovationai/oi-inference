{
 "cells": [
  {
   "cell_type": "markdown",
   "id": "69c02d99-64aa-4970-b597-769fcabbf2c9",
   "metadata": {},
   "source": [
    "### OICM Inference for models deployed with: vLLM, TGI ans SGLang\n",
    "##### ref: https://docs.vllm.ai/en/latest/serving/openai_compatible_server.html"
   ]
  },
  {
   "cell_type": "code",
   "execution_count": 1,
   "id": "1a4e4c02-2e4a-4008-a889-93c5b79d1f47",
   "metadata": {},
   "outputs": [],
   "source": [
    "import requests\n",
    "import json\n",
    "import os\n",
    "from openai import OpenAI"
   ]
  },
  {
   "cell_type": "code",
   "execution_count": 2,
   "id": "b727fc24-64e5-411e-83e9-2f9933bc9dd4",
   "metadata": {},
   "outputs": [],
   "source": [
    "api_key = os.getenv('OI_API_KEY') # Your valid api key\n",
    "deployment_id = os.getenv('OI_DEPLOYMENT_ID') # deployment id\n",
    "base_url = f\"https://inference.develop.openinnovation.ai/models/{deployment_id}/proxy/v1\" # change \"develop\" to your environment\n",
    "model_name = \"Qwen/Qwen2-2B-Instruct\" # HF Model name ex: tiiuae/Falcon3-1B-Instruct\n",
    "\n",
    "headers = {\n",
    "    \"Authorization\": f\"Bearer {api_key}\"\n",
    "}"
   ]
  },
  {
   "cell_type": "markdown",
   "id": "75afc1b8-0502-4b77-aa89-abaf0a633218",
   "metadata": {},
   "source": [
    "### Using OpenAI API Client"
   ]
  },
  {
   "cell_type": "code",
   "execution_count": 4,
   "id": "75aa2e2f-46ab-4775-b9ff-78755da1c7fe",
   "metadata": {},
   "outputs": [],
   "source": [
    "client = OpenAI(\n",
    "    base_url=base_url,\n",
    "    api_key=api_key\n",
    ")"
   ]
  },
  {
   "cell_type": "code",
   "execution_count": 7,
   "id": "5799144b-a592-4e12-ad2e-dcb2c341b5f4",
   "metadata": {},
   "outputs": [
    {
     "name": "stdout",
     "output_type": "stream",
     "text": [
      "I have a wealth of knowledge about Egypt, a country in northeastern Africa with a rich history, culture, and natural beauty. Here are some interesting facts about Egypt:\n",
      "\n",
      "**History:**\n",
      "\n",
      "1. Ancient Egypt: The civilization dates back to around 3100 BCE, with the unification of Upper and Lower Egypt by King Menes. The ancient Egyptians built the Great Pyramids of Giza, temples, tombs, and other monumental structures.\n",
      "2. Roman and Islamic Periods: Egypt was a Roman province from 30 BCE to 641 CE, when it was conquered by the Arabs. In 1517, the Ottoman Empire took control, and in 1922, Egypt gained independence.\n",
      "3. Modern Egypt: Since its independence, Egypt has experienced various governments, including a monarchy, a republic, and a military dictatorship.\n",
      "\n",
      "**Landmarks and Attractions:**\n",
      "\n",
      "1. Pyramids of Giza: The Great Pyramid of Khufu, the Pyramid of Khafre, and the Pyramid of Menkaure are the most famous pyramids in Egypt.\n",
      "2. The Great Sphinx: A giant limestone statue with the body of a lion and the head of a human, believed to represent the pharaoh Khafre.\n",
      "3. Egyptian Museum: Located in Cairo,"
     ]
    }
   ],
   "source": [
    "stream = client.chat.completions.create(\n",
    "            model=model_name,\n",
    "            messages=[\n",
    "                {\"role\": \"system\", \"content\": \"You're a helpful assistant\"},\n",
    "                {\"role\": \"user\", \"content\": \"what do you know about Egypt?\"}\n",
    "                \n",
    "            ],\n",
    "            max_tokens=256,\n",
    "            temperature=0.7,\n",
    "            stream=True\n",
    "        )\n",
    "        \n",
    "for chunk in stream:\n",
    "    if chunk.choices[0].delta.content is not None:\n",
    "        print(chunk.choices[0].delta.content, end=\"\", flush=True)"
   ]
  },
  {
   "cell_type": "markdown",
   "id": "24f5dc6a-7e43-4c14-acf5-d26ded6f1562",
   "metadata": {},
   "source": [
    "### Using requests"
   ]
  },
  {
   "cell_type": "code",
   "execution_count": 10,
   "id": "006441a5-1424-4725-a558-966a640e0732",
   "metadata": {},
   "outputs": [
    {
     "name": "stdout",
     "output_type": "stream",
     "text": [
      "I can provide you with a wealth of information about Egypt. Here are some of the key facts and attractions:\n",
      "\n",
      "**Geography and Climate:**\n",
      "Egypt is a transcontinental country, spanning across northeastern Africa and the Sinai Peninsula in the Middle East. It borders the Mediterranean Sea to the north, the Gaza Strip and Israel to the northeast, the Red Sea to the east, Sudan to the south, and Libya to the west. The country has a long, narrow shape, with the Nile River running through it.\n",
      "\n",
      "**History:**\n",
      "Egypt has a rich and diverse history, with evidence of human habitation dating back to around 6000 BCE. The ancient civilization of Egypt is famous for its pyramids, mummies, pharaohs, and temples. The Old Kingdom (2613-2181 BCE) saw the construction of the Great Pyramids at Giza, while the New Kingdom (1570-1085 BCE) was a period of significant cultural and economic growth.\n",
      "\n",
      "**Culture:**\n",
      "Egyptian culture is a blend of African, Arab, and Mediterranean influences. The country is home to many iconic landmarks, such as the Great Sphinx of Giza, the Valley of the Kings, and the Temple of Karnak. Egyptian cuisine is known for its delicious kebabs"
     ]
    }
   ],
   "source": [
    "payload = {\n",
    "    \"messages\": [\n",
    "        {\"role\": \"system\", \"content\": \"You're a helpful assistant\"},\n",
    "        {\"role\": \"user\", \"content\": \"what do you know about Egypt?\"}\n",
    "    ],\n",
    "    \"max_tokens\": 256,\n",
    "    \"temperature\": 0.7,\n",
    "    \"model\": model_name,\n",
    "    \"stream\": True\n",
    "}\n",
    "\n",
    "response = requests.post(f\"{base_url}/chat/completions\", json=payload, headers=headers, stream=True)\n",
    "\n",
    "for token in response.iter_lines():\n",
    "    try:\n",
    "        decoded_token = token.decode(\"UTF-8\")\n",
    "        json_str = decoded_token[6:]\n",
    "        token_json = json.loads(json_str)\n",
    "        new_str = token_json['choices'][0]['delta']['content']\n",
    "        print(new_str, end=\"\", flush=True)\n",
    "    except:\n",
    "        pass"
   ]
  },
  {
   "cell_type": "markdown",
   "id": "6a15c248-8856-4326-b4da-24e10f077f9e",
   "metadata": {},
   "source": [
    "### Get the usage data\n",
    "##### supported by vLLM and TGI\n",
    "##### input_tokens and completion_tokens"
   ]
  },
  {
   "cell_type": "markdown",
   "id": "5479e79c-3719-482f-ac76-0b7202d424db",
   "metadata": {},
   "source": [
    "##### Streaming mode"
   ]
  },
  {
   "cell_type": "code",
   "execution_count": 14,
   "id": "0106c799-c969-4922-af9b-8f69c01d19f2",
   "metadata": {},
   "outputs": [
    {
     "name": "stdout",
     "output_type": "stream",
     "text": [
      "Egypt is a country located in Northeast Africa, bordered by the Mediterranean Sea to the north, the Gaza Strip and Israel to the northeast, the Red Sea to the east, Sudan to the south, and Libya to the west. Here are some interesting facts about Egypt:\n",
      "\n",
      "1. **Ancient History**: Egypt is home to some of the most ancient and influential civilizations in human history, including the Old Kingdom, the New Kingdom, and the Roman Period. The pyramids of Giza, built around 2580 BC, are an iconic symbol of Egypt's rich history and culture.\n",
      "\n",
      "2. **Pyramids of Giza**: The Pyramids of Giza are not only a UNESCO World Heritage site but also one of the Seven Wonders of the Ancient World. The Great Pyramid of Giza, built for Pharaoh Khufu, is the largest pyramid and the largest man-made structure in the world.\n",
      "\n",
      "3. **Nile River**: The Nile River is the longest river in the world and the primary source of water and fertility for Egypt. It flows through the heart of Egypt and has supported the country's agriculture and civilization for thousands of years.\n",
      "\n",
      "4. **Cairo**: The capital city of Egypt, Cairo, is a bustling metropolis with a rich history and culture.\n",
      "\n",
      "\n",
      "====================================================================================================\n",
      "{'id': 'chat-9331c29300724b5fa1d48030ca0ef212', 'object': 'chat.completion.chunk', 'created': 1737196521, 'model': 'meta-llama/Llama-3.2-3B-Instruct', 'choices': [{'index': 0, 'delta': {'content': '.'}, 'logprobs': None, 'finish_reason': 'length', 'stop_reason': None}], 'usage': {'prompt_tokens': 47, 'total_tokens': 48, 'completion_tokens': 1}}\n",
      "{'prompt_tokens': 47, 'total_tokens': 48, 'completion_tokens': 1}\n",
      "====================================================================================================\n"
     ]
    }
   ],
   "source": [
    "# add {\"stream_options\": {\"include_usage\": True}}\n",
    "\n",
    "payload = {\n",
    "    \"messages\": [\n",
    "        {\"role\": \"system\", \"content\": \"You're a helpful assistant\"},\n",
    "        {\"role\": \"user\", \"content\": \"what do you know about Egypt?\"}\n",
    "    ],\n",
    "    \"max_tokens\": 256,\n",
    "    \"temperature\": 0.7,\n",
    "    \"model\": model_name,\n",
    "    \"stream\": True,\n",
    "    \"stream_options\": {\n",
    "        \"include_usage\": True\n",
    "    }\n",
    "}\n",
    "\n",
    "# The usage is returned in the last token\n",
    "\n",
    "response = requests.post(f\"{base_url}/chat/completions\", json=payload, headers=headers, stream=True)\n",
    "\n",
    "for token in response.iter_lines():\n",
    "    try:\n",
    "        decoded_token = token.decode(\"UTF-8\")\n",
    "        json_str = decoded_token[6:]\n",
    "        token_json = json.loads(json_str)\n",
    "        choice = token_json['choices'][0]\n",
    "        new_str = choice['delta']['content']\n",
    "        print(new_str, end=\"\", flush=True)\n",
    "        if 'finish_reason' in choice and choice['finish_reason'] is not None:\n",
    "            print(\"\\n\\n\")\n",
    "            print(\"=\" * 100)\n",
    "            print\n",
    "            print(token_json)\n",
    "            print(token_json[\"usage\"])\n",
    "            print(\"=\" * 100)\n",
    "    except:\n",
    "        pass"
   ]
  },
  {
   "cell_type": "markdown",
   "id": "32b13b89-5444-41b4-8e55-a6b433899d8e",
   "metadata": {},
   "source": [
    "##### non-streaming mode"
   ]
  },
  {
   "cell_type": "code",
   "execution_count": 17,
   "id": "823fe0fa-bc88-45e3-851f-cb0d35879aec",
   "metadata": {},
   "outputs": [
    {
     "data": {
      "text/plain": [
       "{'prompt_tokens': 47, 'total_tokens': 303, 'completion_tokens': 256}"
      ]
     },
     "execution_count": 17,
     "metadata": {},
     "output_type": "execute_result"
    }
   ],
   "source": [
    "# {\"stream_options\": {\"include_usage\": True}} is not permited as the request is not streaming\n",
    "\n",
    "payload = {\n",
    "    \"messages\": [\n",
    "        {\"role\": \"system\", \"content\": \"You're a helpful assistant\"},\n",
    "        {\"role\": \"user\", \"content\": \"what do you know about Egypt?\"}\n",
    "    ],\n",
    "    \"max_tokens\": 256,\n",
    "    \"temperature\": 0.7,\n",
    "    \"model\": model_name,\n",
    "}\n",
    "\n",
    "# The usage is returned in the last token\n",
    "\n",
    "response = requests.post(f\"{base_url}/chat/completions\", json=payload, headers=headers)\n",
    "\n",
    "usage = response.json().get(\"usage\")\n",
    "usage"
   ]
  },
  {
   "cell_type": "markdown",
   "id": "eeab94b6-d89d-42a5-b53b-7905ad56de03",
   "metadata": {},
   "source": [
    "### Integrate with Langchain"
   ]
  },
  {
   "cell_type": "code",
   "execution_count": 34,
   "id": "4c8848c9-c9e5-49af-b87a-34803a0619ad",
   "metadata": {},
   "outputs": [
    {
     "data": {
      "text/plain": [
       "\"Egypt is a country located in Northeast Africa, bordered by Sudan to the north, South Sudan to the east, Ethiopia to the northwest, and Libya to the west. It is also connected to the Mediterranean Sea to the south through the Suez Canal. The capital of Egypt is Cairo, which is also the largest city in the country. The modern nation-state of Egypt was formed in 1922 following the Arab nationalist struggle for independence from British colonial rule. Egypt has a rich history spanning over 5,000 years, making it one of the world's oldest civilizations.\""
      ]
     },
     "execution_count": 34,
     "metadata": {},
     "output_type": "execute_result"
    }
   ],
   "source": [
    "from langchain_openai import ChatOpenAI\n",
    "\n",
    "llm = ChatOpenAI(\n",
    "        model_name=model_name,\n",
    "        openai_api_key=api_key,\n",
    "        openai_api_base=base_url,\n",
    "        max_tokens=1000,\n",
    ")\n",
    "\n",
    "llm_answer = llm.invoke(\"Egypt is\")\n",
    "\n",
    "llm_answer.content"
   ]
  },
  {
   "cell_type": "markdown",
   "id": "9efe7fa1-9be8-454c-bfd1-d9b4f03a2664",
   "metadata": {},
   "source": [
    "### Langchain Structured Output\n",
    "#### Structured output is only supported with models deployed with vLLM"
   ]
  },
  {
   "cell_type": "code",
   "execution_count": 44,
   "id": "2148adb0-5108-44a3-9488-d4f2adacca54",
   "metadata": {},
   "outputs": [],
   "source": [
    "from typing import List, Optional\n",
    "from pydantic import BaseModel, Field"
   ]
  },
  {
   "cell_type": "code",
   "execution_count": 46,
   "id": "eb29ebe2-34a9-4f00-9326-25a9eb4b1334",
   "metadata": {},
   "outputs": [],
   "source": [
    "class BookRecommendation(BaseModel):\n",
    "    \"\"\"Details of a book recommendation.\"\"\"\n",
    "    title: str = Field(description=\"The title of the book\")\n",
    "    author: str = Field(description=\"The author of the book\")\n",
    "    genre: str = Field(description=\"The genre of the book\")\n",
    "    rating: float = Field(description=\"The book's rating on a scale from 1.0 to 5.0\")\n",
    "    reasons: List[str] = Field(\n",
    "        description=\"Reasons why this book is recommended\"\n",
    "    )"
   ]
  },
  {
   "cell_type": "code",
   "execution_count": 50,
   "id": "9c4c355d-6e1f-4c57-969b-17f3900bf252",
   "metadata": {},
   "outputs": [
    {
     "data": {
      "text/plain": [
       "BookRecommendation(title='The Expanse', author='James S. A. Corey', genre='Science Fiction', rating=8.0, reasons=['The Expanse is a critically acclaimed series that explores a future where humanity has colonized the solar system and faces challenges such as resource scarcity, political conflict, and alien threats.', 'It delves into the complexities of human nature, ethics, and survival in a universe where boundaries blur.', 'Its rich world-building and intricate plotlines make it a compelling read for fans of space exploration and speculative fiction.', 'The series offers a deep dive into the consequences of human actions in a universe governed by gravity, technology, and the stars.', 'Readers will find the blend of suspense, character development, and political intrigue engaging and thought-provoking.', \"Overall, 'The Expanse' is a solid choice for those who enjoy the depth and complexity of science fiction narratives set in the vast expanse of the cosmos.\"])"
      ]
     },
     "execution_count": 50,
     "metadata": {},
     "output_type": "execute_result"
    }
   ],
   "source": [
    "structured_llm = llm.with_structured_output(BookRecommendation)\n",
    "\n",
    "response = structured_llm.invoke(\"Recommend a good science fiction book for someone who loves space exploration.\")\n",
    "\n",
    "response"
   ]
  }
 ],
 "metadata": {
  "kernelspec": {
   "display_name": "Python 3 (ipykernel)",
   "language": "python",
   "name": "python3"
  },
  "language_info": {
   "codemirror_mode": {
    "name": "ipython",
    "version": 3
   },
   "file_extension": ".py",
   "mimetype": "text/x-python",
   "name": "python",
   "nbconvert_exporter": "python",
   "pygments_lexer": "ipython3",
   "version": "3.12.3"
  }
 },
 "nbformat": 4,
 "nbformat_minor": 5
}

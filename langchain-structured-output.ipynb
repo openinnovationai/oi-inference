{
 "cells": [
  {
   "cell_type": "markdown",
   "id": "ef6824ad-193a-443a-8f7e-ccd1bbdd29a0",
   "metadata": {},
   "source": [
    "### Langchain Structured Output"
   ]
  },
  {
   "cell_type": "code",
   "execution_count": 130,
   "id": "1a4e4c02-2e4a-4008-a889-93c5b79d1f47",
   "metadata": {},
   "outputs": [],
   "source": [
    "from langchain_openai import ChatOpenAI\n",
    "import os"
   ]
  },
  {
   "cell_type": "code",
   "execution_count": 132,
   "id": "ff7c9d37-476d-4169-a565-ab697323e294",
   "metadata": {},
   "outputs": [],
   "source": [
    "api_key = \"\" # Your valid api key\n",
    "model_id = \"\" # model id ex: bf7ffeb1-f784-42ee-bc05-b11b139a06e7\n",
    "\n",
    "model_name = \"\" # your model name ex: meta-llama/Llama-3.1-70B-Instruct\n",
    "\n",
    "base_url = f\"https://inference.nscalelab.openinnovation.ai/models/{model_id}/proxy/vllm/v1\"\n",
    "\n",
    "\n",
    "headers = {\n",
    "    \"Authorization\": f\"Bearer {api_key}\"\n",
    "}"
   ]
  },
  {
   "cell_type": "markdown",
   "id": "75afc1b8-0502-4b77-aa89-abaf0a633218",
   "metadata": {},
   "source": [
    "### Using OpenAI API Client"
   ]
  },
  {
   "cell_type": "code",
   "execution_count": 135,
   "id": "75aa2e2f-46ab-4775-b9ff-78755da1c7fe",
   "metadata": {},
   "outputs": [],
   "source": [
    "llm = ChatOpenAI(\n",
    "        model_name=model_name,\n",
    "        openai_api_key=api_key,\n",
    "        openai_api_base=base_url,\n",
    "        max_tokens=1000,\n",
    ")"
   ]
  },
  {
   "cell_type": "markdown",
   "id": "e405d9e1-19c6-44cc-ae0d-39e644a86362",
   "metadata": {},
   "source": [
    "### Pydantic Class"
   ]
  },
  {
   "cell_type": "code",
   "execution_count": 138,
   "id": "f9e6cdbc-f4e4-4e9e-b583-ae7308a764c0",
   "metadata": {},
   "outputs": [],
   "source": [
    "from typing import List, Optional\n",
    "from pydantic import BaseModel, Field\n",
    "\n",
    "class Quote(BaseModel):\n",
    "    \"\"\"A quote with its source and optionally a rating for its impact.\"\"\"\n",
    "    quote: str = Field(description=\"The actual quote text.\")\n",
    "    author: str = Field(description=\"The author of the quote.\")\n",
    "    topic: str = Field(description=\"The general topic or theme of the quote (optional).\")\n",
    "    rating: int = Field(description=\"How impactful the quote is, from 1 to 10 (optional).\")"
   ]
  },
  {
   "cell_type": "code",
   "execution_count": 140,
   "id": "b1024c12-8619-4215-a0d6-2e90f35fd1e1",
   "metadata": {},
   "outputs": [
    {
     "data": {
      "text/plain": [
       "Quote(quote='I can calculate the motion of heavenly bodies, but not the madness of people.', author='Isaac Newton', topic='motivational science quote', rating=9)"
      ]
     },
     "execution_count": 140,
     "metadata": {},
     "output_type": "execute_result"
    }
   ],
   "source": [
    "structured_llm = llm.with_structured_output(Quote)\n",
    "\n",
    "quote_response = structured_llm.invoke(\"Tell me a motivational quote from a famous scientist.\")\n",
    "\n",
    "quote_response"
   ]
  },
  {
   "cell_type": "code",
   "execution_count": 146,
   "id": "daa2a2b5-2b15-46fa-9606-9007610f27d3",
   "metadata": {},
   "outputs": [],
   "source": [
    "# Another example\n",
    "\n",
    "\n",
    "class BookRecommendation(BaseModel):\n",
    "    \"\"\"Details of a book recommendation.\"\"\"\n",
    "    title: str = Field(description=\"The title of the book\")\n",
    "    author: str = Field(description=\"The author of the book\")\n",
    "    genre: str = Field(description=\"The genre of the book\")\n",
    "    rating: float = Field(description=\"The book's rating on a scale from 1.0 to 5.0\")\n",
    "    reasons: List[str] = Field(\n",
    "        description=\"Reasons why this book is recommended\"\n",
    "    )"
   ]
  },
  {
   "cell_type": "code",
   "execution_count": 148,
   "id": "686d7064-de52-4bf7-80df-1c7060b28fdb",
   "metadata": {},
   "outputs": [
    {
     "data": {
      "text/plain": [
       "BookRecommendation(title='The Martian', author='Andy Weir', genre='Science Fiction', rating=4.5, reasons=[\"It's a great book for someone who loves space exploration.\", \"It's a well-researched and realistic portrayal of space travel.\"])"
      ]
     },
     "execution_count": 148,
     "metadata": {},
     "output_type": "execute_result"
    }
   ],
   "source": [
    "structured_llm = llm.with_structured_output(BookRecommendation)\n",
    "\n",
    "response = structured_llm.invoke(\"Recommend a good science fiction book for someone who loves space exploration.\")\n",
    "\n",
    "response"
   ]
  },
  {
   "cell_type": "code",
   "execution_count": null,
   "id": "8a291791-3819-4397-95f3-37d99ac83480",
   "metadata": {},
   "outputs": [],
   "source": []
  }
 ],
 "metadata": {
  "kernelspec": {
   "display_name": "Python 3 (ipykernel)",
   "language": "python",
   "name": "python3"
  },
  "language_info": {
   "codemirror_mode": {
    "name": "ipython",
    "version": 3
   },
   "file_extension": ".py",
   "mimetype": "text/x-python",
   "name": "python",
   "nbconvert_exporter": "python",
   "pygments_lexer": "ipython3",
   "version": "3.12.3"
  }
 },
 "nbformat": 4,
 "nbformat_minor": 5
}

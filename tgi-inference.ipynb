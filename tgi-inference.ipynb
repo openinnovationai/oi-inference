{
 "cells": [
  {
   "cell_type": "code",
   "execution_count": 6,
   "id": "1a4e4c02-2e4a-4008-a889-93c5b79d1f47",
   "metadata": {},
   "outputs": [],
   "source": [
    "import requests\n",
    "import json\n",
    "from openai import OpenAI\n",
    "import os"
   ]
  },
  {
   "cell_type": "code",
   "execution_count": 24,
   "id": "b727fc24-64e5-411e-83e9-2f9933bc9dd4",
   "metadata": {},
   "outputs": [],
   "source": [
    "api_key = os.getenv('OI_API_KEY') # Your valid api key\n",
    "model_version_id = os.getenv('OI_MODEL_VERSION_ID') # model version id\n",
    "\n",
    "model_name = \"tiiuae/Falcon3-3B-Instruct\" # add the model name here\n",
    "\n",
    "base_url = \"\" # your valid model url\n",
    "\n",
    "# example: {oicm_host}/models/{model_version_id}/proxy/tgi/v1\n",
    "# oicm_host: is the platform url\n",
    "\n",
    "\n",
    "headers = {\n",
    "    \"Authorization\": f\"Bearer {api_key}\"\n",
    "}"
   ]
  },
  {
   "cell_type": "markdown",
   "id": "75afc1b8-0502-4b77-aa89-abaf0a633218",
   "metadata": {},
   "source": [
    "### Using OpenAI API Client"
   ]
  },
  {
   "cell_type": "code",
   "execution_count": 27,
   "id": "75aa2e2f-46ab-4775-b9ff-78755da1c7fe",
   "metadata": {},
   "outputs": [],
   "source": [
    "client = OpenAI(\n",
    "    base_url=base_url,\n",
    "    api_key=api_key\n",
    ")"
   ]
  },
  {
   "cell_type": "code",
   "execution_count": 29,
   "id": "5799144b-a592-4e12-ad2e-dcb2c341b5f4",
   "metadata": {},
   "outputs": [
    {
     "name": "stdout",
     "output_type": "stream",
     "text": [
      "Egypt is a country located in the northeastern corner of Africa. It is the world's oldest civilization, tracing its roots back to ancient Egypt. Here are some key points about Egypt:\n",
      "\n",
      "1. **History**: The Kingdom of Egypt, one of the earliest civilizations, has a rich history dating back to 3100 BC with the unification of Upper and Lower Egypt under the First Dynasty. Ancient Egyptian culture includes monumental architecture, such as the Pyramids and the Sphinx, as well as a complex system of writing, mathematics, and science.\n",
      "\n",
      "2. **Culture**: Egyptian culture is deeply influenced by its ancient history, blending traditional customs with modern influences. Popular Egyptian festivals include Eid al-Fitr and Eid al-Adha, marking the end of Ramadan and the pilgrimage to Mecca, respectively.\n",
      "\n",
      "3. **Religion**: Islam is the dominant religion in Egypt, followed by Christianity. Egyptians celebrate various Islamic and Christian holidays, including Eid al-Fitr, Eid al-Adha, and Christmas.\n",
      "\n",
      "4. **Government**: Egypt is a republic with a parliamentary system. The current president is Abdel Fattah el-Sisi, who took office in 2014 following a period of military rule.\n",
      "\n"
     ]
    }
   ],
   "source": [
    "stream = client.chat.completions.create(\n",
    "            model=model_name,\n",
    "            messages=[\n",
    "                {\"role\": \"system\", \"content\": \"You're a helpful assistant\"},\n",
    "                {\"role\": \"user\", \"content\": \"what do you know about Egypt?\"}\n",
    "                \n",
    "            ],\n",
    "            max_tokens=256,\n",
    "            temperature=0.7,\n",
    "            stream=True\n",
    "        )\n",
    "        \n",
    "for chunk in stream:\n",
    "    if chunk.choices[0].delta.content is not None:\n",
    "        print(chunk.choices[0].delta.content, end=\"\", flush=True)"
   ]
  },
  {
   "cell_type": "markdown",
   "id": "24f5dc6a-7e43-4c14-acf5-d26ded6f1562",
   "metadata": {},
   "source": [
    "### Using requests"
   ]
  },
  {
   "cell_type": "code",
   "execution_count": 32,
   "id": "006441a5-1424-4725-a558-966a640e0732",
   "metadata": {},
   "outputs": [
    {
     "name": "stdout",
     "output_type": "stream",
     "text": [
      "Egypt is a country located in the northeastern corner of Africa. It is bordered by Sudan to the north, Libya to the west, the Red Sea to the south, and Israel and the Gaza Strip to the east.\n",
      "\n",
      "Geographically, Egypt is characterized by its diverse landscape, which includes the Nile River Valley, a region known for its fertile soil and agricultural productivity. The Nile River is the longest river in Africa and plays a crucial role in the country's economy and agriculture.\n",
      "\n",
      "Ancient Egypt is one of the most famous periods in Egyptian history. It lasted from around 3100 BC to 30 BC and is renowned for its pyramids, such as the Great Pyramid of Giza, its impressive temples and monumental architecture, and its rich contribution to art and literature, including the famous \"Book of the Dead.\"\n",
      "\n",
      "Modern Egypt has a complex history and is a diverse country with a mix of urban and rural areas. Its population is primarily Arab but also includes significant minority groups like the Coptic Christians and Egyptians of African descent.\n",
      "\n",
      "Egypt has a long history of trade and cultural exchange, evidenced by its strategic location along the Nile and its influence in the ancient world. Today, Egypt is a constitutional republic and is one of the largest and most populous"
     ]
    }
   ],
   "source": [
    "payload = {\n",
    "    \"messages\": [\n",
    "        {\"role\": \"system\", \"content\": \"You're a helpful assistant\"},\n",
    "        {\"role\": \"user\", \"content\": \"what do you know about Egypt?\"}\n",
    "    ],\n",
    "    \"max_tokens\": 256,\n",
    "    \"temperature\": 0.7,\n",
    "    \"model\": model_name,\n",
    "    \"stream\": True\n",
    "}\n",
    "\n",
    "response = requests.post(f\"{base_url}/chat/completions\", json=payload, headers=headers, stream=True)\n",
    "\n",
    "for token in response.iter_lines():\n",
    "    try:\n",
    "        decoded_token = token.decode(\"UTF-8\")\n",
    "        json_str = decoded_token[6:]\n",
    "        token_json = json.loads(json_str)\n",
    "        new_str = token_json['choices'][0]['delta']['content']\n",
    "        print(new_str, end=\"\", flush=True)\n",
    "    except:\n",
    "        pass"
   ]
  },
  {
   "cell_type": "markdown",
   "id": "eeab94b6-d89d-42a5-b53b-7905ad56de03",
   "metadata": {},
   "source": [
    "### Integrate with Langchain"
   ]
  },
  {
   "cell_type": "code",
   "execution_count": 37,
   "id": "4c8848c9-c9e5-49af-b87a-34803a0619ad",
   "metadata": {},
   "outputs": [
    {
     "data": {
      "text/plain": [
       "\"Egypt is a country located in the northeastern corner of Africa, bordered by Libya to the north, Sudan to the south, the Red Sea to the east, and Israel and the Gaza Strip to the west. It is the world's longest country, stretching over 650 miles (1,046 kilometers) from the Mediterranean Sea to the Gulf of Suez and the Suez Canal.\\n\\nThe Nile River, which flows through the center of Egypt, is one of the world'\""
      ]
     },
     "execution_count": 37,
     "metadata": {},
     "output_type": "execute_result"
    }
   ],
   "source": [
    "from langchain_openai import ChatOpenAI\n",
    "\n",
    "llm = ChatOpenAI(\n",
    "        model_name=model_name,\n",
    "        openai_api_key=api_key,\n",
    "        openai_api_base=base_url,\n",
    "        max_tokens=100,\n",
    ")\n",
    "\n",
    "llm_answer = llm.invoke(\"Egypt is\")\n",
    "\n",
    "llm_answer.content"
   ]
  },
  {
   "cell_type": "code",
   "execution_count": null,
   "id": "08e9d1d4-d5a1-41fa-866b-99fe53006d79",
   "metadata": {},
   "outputs": [],
   "source": []
  }
 ],
 "metadata": {
  "kernelspec": {
   "display_name": "Python 3 (ipykernel)",
   "language": "python",
   "name": "python3"
  },
  "language_info": {
   "codemirror_mode": {
    "name": "ipython",
    "version": 3
   },
   "file_extension": ".py",
   "mimetype": "text/x-python",
   "name": "python",
   "nbconvert_exporter": "python",
   "pygments_lexer": "ipython3",
   "version": "3.12.3"
  }
 },
 "nbformat": 4,
 "nbformat_minor": 5
}

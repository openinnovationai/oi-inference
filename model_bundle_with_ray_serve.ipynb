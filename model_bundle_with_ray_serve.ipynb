{
 "cells": [
  {
   "cell_type": "markdown",
   "id": "69c02d99-64aa-4970-b597-769fcabbf2c9",
   "metadata": {},
   "source": [
    "### OICM Inference for models deployed with: Model Bundle with RayServe"
   ]
  },
  {
   "cell_type": "code",
   "execution_count": 3,
   "id": "ef1fd2bd-5f37-43ff-ad8a-0bbd2d93c7f4",
   "metadata": {},
   "outputs": [],
   "source": [
    "import os\n",
    "import requests"
   ]
  },
  {
   "cell_type": "code",
   "execution_count": 5,
   "id": "b727fc24-64e5-411e-83e9-2f9933bc9dd4",
   "metadata": {},
   "outputs": [],
   "source": [
    "api_key = os.getenv('OI_API_KEY') # Your valid api key\n",
    "model_version_id = os.getenv('OI_MODEL_VERSION_ID') # model version id\n",
    "oicm_host = \"develop.openinnovation.ai\"\n",
    "# example: https://inference.{oicm_host}/models/{model_version_id}/proxy\n",
    "# oicm_host: is the platform url ex: develop.openinnovation.ai\n",
    "\n",
    "base_url = f\"https://inference.{oicm_host}/models/{model_version_id}/proxy\"\n",
    "\n",
    "headers = {\n",
    "    \"Authorization\": f\"Bearer {api_key}\"\n",
    "}"
   ]
  },
  {
   "cell_type": "markdown",
   "id": "24f5dc6a-7e43-4c14-acf5-d26ded6f1562",
   "metadata": {},
   "source": [
    "### Using requests"
   ]
  },
  {
   "cell_type": "code",
   "execution_count": 19,
   "id": "006441a5-1424-4725-a558-966a640e0732",
   "metadata": {},
   "outputs": [
    {
     "data": {
      "text/plain": [
       "{'role': 'assistant',\n",
       " 'content': 'Abu Dhabi is the capital and largest city of the Emirate of Abu Dhabi, which is one of'}"
      ]
     },
     "execution_count": 19,
     "metadata": {},
     "output_type": "execute_result"
    }
   ],
   "source": [
    "payload = {\n",
    "    \"messages\": [\n",
    "        {\n",
    "            \"role\": \"system\",\n",
    "            \"content\": \"you're helpful assistant\"\n",
    "        },\n",
    "        {\n",
    "            \"role\": \"user\",\n",
    "            \"content\": \"Abu Dhabi is \"\n",
    "        }\n",
    "    ],\n",
    "    \"max_tokens\": 20\n",
    "}\n",
    "\n",
    "response = requests.post(f\"{base_url}/predict\", json=payload, headers=headers)\n",
    "\n",
    "response.json()"
   ]
  },
  {
   "cell_type": "code",
   "execution_count": null,
   "id": "dc391df4-4b03-4f66-90a9-4825a8448804",
   "metadata": {},
   "outputs": [],
   "source": []
  }
 ],
 "metadata": {
  "kernelspec": {
   "display_name": "Python 3 (ipykernel)",
   "language": "python",
   "name": "python3"
  },
  "language_info": {
   "codemirror_mode": {
    "name": "ipython",
    "version": 3
   },
   "file_extension": ".py",
   "mimetype": "text/x-python",
   "name": "python",
   "nbconvert_exporter": "python",
   "pygments_lexer": "ipython3",
   "version": "3.12.3"
  }
 },
 "nbformat": 4,
 "nbformat_minor": 5
}

{
 "cells": [
  {
   "cell_type": "code",
   "execution_count": 3,
   "id": "1a4e4c02-2e4a-4008-a889-93c5b79d1f47",
   "metadata": {},
   "outputs": [],
   "source": [
    "import requests\n",
    "import json\n",
    "from openai import OpenAI\n",
    "import os"
   ]
  },
  {
   "cell_type": "code",
   "execution_count": 86,
   "id": "b727fc24-64e5-411e-83e9-2f9933bc9dd4",
   "metadata": {},
   "outputs": [],
   "source": [
    "api_key = os.getenv('OI_API_KEY') # Your valid api key\n",
    "model_version_id = os.getenv('OI_MODEL_VERSION_ID') # model version id\n",
    "\n",
    "base_url =f\"\" # your valid model url\n",
    "# example: {oicm_host}/models/{model_version_id}/proxy/vllm/v1\n",
    "# oicm_host: is the platform url\n",
    "\n",
    "headers = {\n",
    "    \"Authorization\": f\"Bearer {api_key}\"\n",
    "}"
   ]
  },
  {
   "cell_type": "markdown",
   "id": "01475123-a145-4bed-85c0-4f89c4eda80d",
   "metadata": {},
   "source": [
    "### Get the model name dynamically (vLLM)"
   ]
  },
  {
   "cell_type": "code",
   "execution_count": 89,
   "id": "7eab719b-927d-4895-9966-69dc1a08674b",
   "metadata": {},
   "outputs": [
    {
     "data": {
      "text/plain": [
       "'meta-llama/Llama-3.1-8B-Instruct'"
      ]
     },
     "execution_count": 89,
     "metadata": {},
     "output_type": "execute_result"
    }
   ],
   "source": [
    "model_info = requests.get(f\"{base_url}/models\", headers=headers).json()\n",
    "model_name = model_info[\"data\"][0][\"id\"]\n",
    "\n",
    "model_name"
   ]
  },
  {
   "cell_type": "markdown",
   "id": "75afc1b8-0502-4b77-aa89-abaf0a633218",
   "metadata": {},
   "source": [
    "### Using OpenAI API Client"
   ]
  },
  {
   "cell_type": "code",
   "execution_count": 92,
   "id": "75aa2e2f-46ab-4775-b9ff-78755da1c7fe",
   "metadata": {},
   "outputs": [],
   "source": [
    "client = OpenAI(\n",
    "    base_url=base_url,\n",
    "    api_key=api_key\n",
    ")"
   ]
  },
  {
   "cell_type": "code",
   "execution_count": 94,
   "id": "5799144b-a592-4e12-ad2e-dcb2c341b5f4",
   "metadata": {},
   "outputs": [
    {
     "name": "stdout",
     "output_type": "stream",
     "text": [
      "Egypt is a country located in northeastern Africa, bordering the Mediterranean Sea to the north and the Red Sea to the east. Here are some interesting facts about Egypt:\n",
      "\n",
      "**History:**\n",
      "\n",
      "1. **Ancient Civilization:** Egypt was one of the earliest civilizations in the world, with a history dating back over 5,000 years.\n",
      "2. **Pyramids:** The Great Pyramid of Giza, built for Pharaoh Khufu around 2580 BC, is the only one of the Seven Wonders of the Ancient World still standing.\n",
      "3. **Pharaohs:** Egypt was ruled by pharaohs, who were believed to be gods on earth, for over 3,000 years.\n",
      "4. **Egyptian Empire:** The Egyptian Empire was a powerful force in the ancient world, expanding into Nubia, Syria, and Palestine.\n",
      "\n",
      "**Culture:**\n",
      "\n",
      "1. **Language:** Arabic is the official language, but many Egyptians also speak Egyptian Arabic, a dialect that is unique to the country.\n",
      "2. **Religion:** Islam is the dominant religion, with around 90% of the population identifying as Muslim.\n",
      "3. **Cuisine:** Egyptian cuisine is a fusion of Mediterranean, Middle Eastern, and African flavors, with popular dishes like koshari,"
     ]
    }
   ],
   "source": [
    "stream = client.chat.completions.create(\n",
    "            model=model_name,\n",
    "            messages=[\n",
    "                {\"role\": \"system\", \"content\": \"You're a helpful assistant\"},\n",
    "                {\"role\": \"user\", \"content\": \"what do you know about Egypt?\"}\n",
    "                \n",
    "            ],\n",
    "            max_tokens=256,\n",
    "            temperature=0.7,\n",
    "            stream=True\n",
    "        )\n",
    "        \n",
    "for chunk in stream:\n",
    "    if chunk.choices[0].delta.content is not None:\n",
    "        print(chunk.choices[0].delta.content, end=\"\", flush=True)"
   ]
  },
  {
   "cell_type": "markdown",
   "id": "24f5dc6a-7e43-4c14-acf5-d26ded6f1562",
   "metadata": {},
   "source": [
    "### Using requests"
   ]
  },
  {
   "cell_type": "code",
   "execution_count": 113,
   "id": "006441a5-1424-4725-a558-966a640e0732",
   "metadata": {},
   "outputs": [
    {
     "name": "stdout",
     "output_type": "stream",
     "text": [
      "Egypt is a country located in northeastern Africa, bordering the Mediterranean Sea to the north, the Gaza Strip and Israel to the northeast, the Red Sea to the east, Sudan to the south, and Libya to the west. Here are some key facts about Egypt:\n",
      "\n",
      "**History**\n",
      "\n",
      "* Ancient Egypt was one of the earliest civilizations on earth, dating back to around 3100 BCE.\n",
      "* The pyramids of Giza, built around 2580 BCE, are considered one of the Seven Wonders of the Ancient World and are still an iconic symbol of Egypt today.\n",
      "* The ancient Egyptians were known for their advanced knowledge of mathematics, medicine, and architecture.\n",
      "* The pharaohs, who ruled Egypt from around 3100 BCE to 30 BCE, were considered gods on earth and built elaborate temples and tombs to honor their deities.\n",
      "\n",
      "**Geography**\n",
      "\n",
      "* Egypt is a vast and diverse country, with a total area of approximately 1 million square kilometers (385,000 sq mi).\n",
      "* The Nile River, which flows through the heart of Egypt, is the longest river in the world and is considered the lifeblood of the country.\n",
      "* The Sahara Desert covers much of Egypt's western and southern regions, while the Sinai Peninsula in the east is a popular destination"
     ]
    }
   ],
   "source": [
    "payload = {\n",
    "    \"messages\": [\n",
    "        {\"role\": \"system\", \"content\": \"You're a helpful assistant\"},\n",
    "        {\"role\": \"user\", \"content\": \"what do you know about Egypt?\"}\n",
    "    ],\n",
    "    \"max_tokens\": 256,\n",
    "    \"temperature\": 0.7,\n",
    "    \"model\": model_name,\n",
    "    \"stream\": True\n",
    "}\n",
    "\n",
    "response = requests.post(f\"{base_url}/chat/completions\", json=payload, headers=headers, stream=True)\n",
    "\n",
    "for token in response.iter_lines():\n",
    "    try:\n",
    "        decoded_token = token.decode(\"UTF-8\")\n",
    "        json_str = decoded_token[6:]\n",
    "        token_json = json.loads(json_str)\n",
    "        new_str = token_json['choices'][0]['delta']['content']\n",
    "        print(new_str, end=\"\", flush=True)\n",
    "    except:\n",
    "        pass"
   ]
  },
  {
   "cell_type": "markdown",
   "id": "eeab94b6-d89d-42a5-b53b-7905ad56de03",
   "metadata": {},
   "source": [
    "### Integrate with Langchain"
   ]
  },
  {
   "cell_type": "code",
   "execution_count": 121,
   "id": "4c8848c9-c9e5-49af-b87a-34803a0619ad",
   "metadata": {},
   "outputs": [
    {
     "data": {
      "text/plain": [
       "'a country located in northeastern Africa, bordered by the Mediterranean Sea to the north, the Gaza Strip and Israel to the northeast, the Red Sea to the east, Sudan to the south, and Libya to the west.\\n\\nSome key facts about Egypt:\\n\\n1. **Capital city**: Cairo (population over 20 million)\\n2. **Language**: Arabic is the official language, but many Egyptians also speak English.\\n3. **Currency**: Egyptian pound (EGP)\\n4. **Population**: Over 100'"
      ]
     },
     "execution_count": 121,
     "metadata": {},
     "output_type": "execute_result"
    }
   ],
   "source": [
    "from langchain_openai import ChatOpenAI\n",
    "\n",
    "llm = ChatOpenAI(\n",
    "        model_name=model_name,\n",
    "        openai_api_key=api_key,\n",
    "        openai_api_base=base_url,\n",
    "        max_tokens=100,\n",
    ")\n",
    "\n",
    "llm_answer = llm.invoke(\"Egypt is\")\n",
    "\n",
    "llm_answer.content"
   ]
  },
  {
   "cell_type": "code",
   "execution_count": null,
   "id": "08e9d1d4-d5a1-41fa-866b-99fe53006d79",
   "metadata": {},
   "outputs": [],
   "source": []
  }
 ],
 "metadata": {
  "kernelspec": {
   "display_name": "Python 3 (ipykernel)",
   "language": "python",
   "name": "python3"
  },
  "language_info": {
   "codemirror_mode": {
    "name": "ipython",
    "version": 3
   },
   "file_extension": ".py",
   "mimetype": "text/x-python",
   "name": "python",
   "nbconvert_exporter": "python",
   "pygments_lexer": "ipython3",
   "version": "3.12.3"
  }
 },
 "nbformat": 4,
 "nbformat_minor": 5
}

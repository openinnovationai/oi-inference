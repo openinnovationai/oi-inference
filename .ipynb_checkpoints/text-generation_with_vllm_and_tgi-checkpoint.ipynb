{
 "cells": [
  {
   "cell_type": "markdown",
   "id": "69c02d99-64aa-4970-b597-769fcabbf2c9",
   "metadata": {},
   "source": [
    "### OICM Inference for models deployed with: vLLM and TGI\n",
    "##### ref: https://docs.vllm.ai/en/latest/serving/openai_compatible_server.html"
   ]
  },
  {
   "cell_type": "code",
   "execution_count": 53,
   "id": "1a4e4c02-2e4a-4008-a889-93c5b79d1f47",
   "metadata": {},
   "outputs": [],
   "source": [
    "import requests\n",
    "import json\n",
    "import os\n",
    "from openai import OpenAI"
   ]
  },
  {
   "cell_type": "code",
   "execution_count": 11,
   "id": "b727fc24-64e5-411e-83e9-2f9933bc9dd4",
   "metadata": {},
   "outputs": [],
   "source": [
    "api_key = os.getenv('OI_API_KEY') # Your valid api key\n",
    "model_version_id = os.getenv('OI_MODEL_VERSION_ID') # model version id\n",
    "base_url =f\"\" # your valid model url\n",
    "# example: https://inference.{oicm_host}/models/{model_version_id}/proxy/vllm/v1\n",
    "# oicm_host: is the platform url ex: develop.openinnovation.ai\n",
    "\n",
    "model_name = \"tiiuae/Falcon3-1B-Instruct\" # HF Model name\n",
    "\n",
    "\n",
    "api_key = \"sk-jpZk1U1b5C5zmlpYRtA_cw9RIAzhQQccvU7hu_d6ZnU\"\n",
    "model_version_id = \"42c4f31d-9f7d-4f64-b8ad-3c63ada3df53\"\n",
    "base_url = f\"https://inference.develop.openinnovation.ai/models/{model_version_id}/proxy/v1\"\n",
    "\n",
    "headers = {\n",
    "    \"Authorization\": f\"Bearer {api_key}\"\n",
    "}"
   ]
  },
  {
   "cell_type": "markdown",
   "id": "75afc1b8-0502-4b77-aa89-abaf0a633218",
   "metadata": {},
   "source": [
    "### Using OpenAI API Client"
   ]
  },
  {
   "cell_type": "code",
   "execution_count": 14,
   "id": "75aa2e2f-46ab-4775-b9ff-78755da1c7fe",
   "metadata": {},
   "outputs": [],
   "source": [
    "client = OpenAI(\n",
    "    base_url=base_url,\n",
    "    api_key=api_key\n",
    ")"
   ]
  },
  {
   "cell_type": "code",
   "execution_count": 16,
   "id": "5799144b-a592-4e12-ad2e-dcb2c341b5f4",
   "metadata": {},
   "outputs": [
    {
     "name": "stdout",
     "output_type": "stream",
     "text": [
      "Egypt is a country located in Northeast Africa, known for its rich history and cultural heritage. It is one of the oldest civilizations in the world, having developed along the fertile banks of the Nile River. Ancient Egyptian civilization flourished for thousands of years, leaving behind iconic structures such as the Pyramids of Giza and the Sphinx.\n",
      "\n",
      "Egypt is also renowned for its contributions to art, literature, and science. The Rosetta Stone, discovered in 1799, played a crucial role in the deciphering of Egyptian hieroglyphics, which has provided invaluable insights into ancient Egyptian culture and history.\n",
      "\n",
      "The country also boasts a vibrant modern culture, with a diverse food scene, including iconic dishes like Egyptian kebabs and falafel. Egypt is also home to numerous museums, including the Museum of Egyptian Civilization in Cairo, which showcases the archaeological treasures from various periods of Egyptian history.\n",
      "\n",
      "Additionally, Egypt is a popular tourist destination known for its stunning landscapes, including the Nile River, the Pyramids of Giza, Luxor, and Aswan, which are UNESCO World Heritage Sites. The annual Nile River cruise is a major tourist attraction, allowing visitors to experience Egypt's breathtaking scenery and rich history.\n",
      "\n",
      "Egypt is a land of contrasts, blending the ancient past with a thriving present. Its"
     ]
    }
   ],
   "source": [
    "stream = client.chat.completions.create(\n",
    "            model=model_name,\n",
    "            messages=[\n",
    "                {\"role\": \"system\", \"content\": \"You're a helpful assistant\"},\n",
    "                {\"role\": \"user\", \"content\": \"what do you know about Egypt?\"}\n",
    "                \n",
    "            ],\n",
    "            max_tokens=256,\n",
    "            temperature=0.7,\n",
    "            stream=True\n",
    "        )\n",
    "        \n",
    "for chunk in stream:\n",
    "    if chunk.choices[0].delta.content is not None:\n",
    "        print(chunk.choices[0].delta.content, end=\"\", flush=True)"
   ]
  },
  {
   "cell_type": "markdown",
   "id": "24f5dc6a-7e43-4c14-acf5-d26ded6f1562",
   "metadata": {},
   "source": [
    "### Using requests"
   ]
  },
  {
   "cell_type": "code",
   "execution_count": 19,
   "id": "006441a5-1424-4725-a558-966a640e0732",
   "metadata": {},
   "outputs": [
    {
     "name": "stdout",
     "output_type": "stream",
     "text": [
      "Egypt is a country located in the northeastern corner of Africa, bordered by Libya to the north, Sudan to the east, South Sudan to the south, and Israel and Palestine to the southwest. It is one of the oldest civilizations in the world, with a rich history dating back over 5000 years, and it is famous for its iconic landmarks like the Pyramids of Giza, the Sphinx, and the Nile River.\n",
      "\n",
      "Egypt is located on the east bank of the Nile River, which is the longest river in Africa. The Nile has played a crucial role in the history and development of Egypt, providing fertile soil for agriculture and sustaining the Egyptian civilization.\n",
      "\n",
      "The country is divided into two main regions: the Nile Valley, which includes the fertile agricultural lands along the river, and the Western Desert, which is arid and rocky.\n",
      "\n",
      "Egypt is known for its diverse culture and heritage, with a mix of ancient Egyptian traditions and influences from other civilizations over the centuries. It has a robust economy, driven by sectors like tourism, agriculture, and industry, which has contributed to its growth and development in recent decades.\n",
      "\n",
      "The Egyptian flag features a red background with a white five-pointed star in the center, representing the Five Points of Horus, an ancient Egyptian"
     ]
    }
   ],
   "source": [
    "payload = {\n",
    "    \"messages\": [\n",
    "        {\"role\": \"system\", \"content\": \"You're a helpful assistant\"},\n",
    "        {\"role\": \"user\", \"content\": \"what do you know about Egypt?\"}\n",
    "    ],\n",
    "    \"max_tokens\": 256,\n",
    "    \"temperature\": 0.7,\n",
    "    \"model\": model_name,\n",
    "    \"stream\": True\n",
    "}\n",
    "\n",
    "response = requests.post(f\"{base_url}/chat/completions\", json=payload, headers=headers, stream=True)\n",
    "\n",
    "for token in response.iter_lines():\n",
    "    try:\n",
    "        decoded_token = token.decode(\"UTF-8\")\n",
    "        json_str = decoded_token[6:]\n",
    "        token_json = json.loads(json_str)\n",
    "        new_str = token_json['choices'][0]['delta']['content']\n",
    "        print(new_str, end=\"\", flush=True)\n",
    "    except:\n",
    "        pass"
   ]
  },
  {
   "cell_type": "markdown",
   "id": "eeab94b6-d89d-42a5-b53b-7905ad56de03",
   "metadata": {},
   "source": [
    "### Integrate with Langchain"
   ]
  },
  {
   "cell_type": "code",
   "execution_count": 34,
   "id": "4c8848c9-c9e5-49af-b87a-34803a0619ad",
   "metadata": {},
   "outputs": [
    {
     "data": {
      "text/plain": [
       "\"Egypt is a country located in Northeast Africa, bordered by Sudan to the north, South Sudan to the east, Ethiopia to the northwest, and Libya to the west. It is also connected to the Mediterranean Sea to the south through the Suez Canal. The capital of Egypt is Cairo, which is also the largest city in the country. The modern nation-state of Egypt was formed in 1922 following the Arab nationalist struggle for independence from British colonial rule. Egypt has a rich history spanning over 5,000 years, making it one of the world's oldest civilizations.\""
      ]
     },
     "execution_count": 34,
     "metadata": {},
     "output_type": "execute_result"
    }
   ],
   "source": [
    "from langchain_openai import ChatOpenAI\n",
    "\n",
    "llm = ChatOpenAI(\n",
    "        model_name=model_name,\n",
    "        openai_api_key=api_key,\n",
    "        openai_api_base=base_url,\n",
    "        max_tokens=1000,\n",
    ")\n",
    "\n",
    "llm_answer = llm.invoke(\"Egypt is\")\n",
    "\n",
    "llm_answer.content"
   ]
  },
  {
   "cell_type": "markdown",
   "id": "9efe7fa1-9be8-454c-bfd1-d9b4f03a2664",
   "metadata": {},
   "source": [
    "### Langchain Structured Output\n",
    "#### Structured output is only supported with models deployed with vLLM"
   ]
  },
  {
   "cell_type": "code",
   "execution_count": 44,
   "id": "2148adb0-5108-44a3-9488-d4f2adacca54",
   "metadata": {},
   "outputs": [],
   "source": [
    "from typing import List, Optional\n",
    "from pydantic import BaseModel, Field"
   ]
  },
  {
   "cell_type": "code",
   "execution_count": 46,
   "id": "eb29ebe2-34a9-4f00-9326-25a9eb4b1334",
   "metadata": {},
   "outputs": [],
   "source": [
    "class BookRecommendation(BaseModel):\n",
    "    \"\"\"Details of a book recommendation.\"\"\"\n",
    "    title: str = Field(description=\"The title of the book\")\n",
    "    author: str = Field(description=\"The author of the book\")\n",
    "    genre: str = Field(description=\"The genre of the book\")\n",
    "    rating: float = Field(description=\"The book's rating on a scale from 1.0 to 5.0\")\n",
    "    reasons: List[str] = Field(\n",
    "        description=\"Reasons why this book is recommended\"\n",
    "    )"
   ]
  },
  {
   "cell_type": "code",
   "execution_count": 50,
   "id": "9c4c355d-6e1f-4c57-969b-17f3900bf252",
   "metadata": {},
   "outputs": [
    {
     "data": {
      "text/plain": [
       "BookRecommendation(title='The Expanse', author='James S. A. Corey', genre='Science Fiction', rating=8.0, reasons=['The Expanse is a critically acclaimed series that explores a future where humanity has colonized the solar system and faces challenges such as resource scarcity, political conflict, and alien threats.', 'It delves into the complexities of human nature, ethics, and survival in a universe where boundaries blur.', 'Its rich world-building and intricate plotlines make it a compelling read for fans of space exploration and speculative fiction.', 'The series offers a deep dive into the consequences of human actions in a universe governed by gravity, technology, and the stars.', 'Readers will find the blend of suspense, character development, and political intrigue engaging and thought-provoking.', \"Overall, 'The Expanse' is a solid choice for those who enjoy the depth and complexity of science fiction narratives set in the vast expanse of the cosmos.\"])"
      ]
     },
     "execution_count": 50,
     "metadata": {},
     "output_type": "execute_result"
    }
   ],
   "source": [
    "structured_llm = llm.with_structured_output(BookRecommendation)\n",
    "\n",
    "response = structured_llm.invoke(\"Recommend a good science fiction book for someone who loves space exploration.\")\n",
    "\n",
    "response"
   ]
  },
  {
   "cell_type": "code",
   "execution_count": null,
   "id": "34f72fea-a1eb-4f74-9c0e-72ce35aa9536",
   "metadata": {},
   "outputs": [],
   "source": []
  }
 ],
 "metadata": {
  "kernelspec": {
   "display_name": "Python 3 (ipykernel)",
   "language": "python",
   "name": "python3"
  },
  "language_info": {
   "codemirror_mode": {
    "name": "ipython",
    "version": 3
   },
   "file_extension": ".py",
   "mimetype": "text/x-python",
   "name": "python",
   "nbconvert_exporter": "python",
   "pygments_lexer": "ipython3",
   "version": "3.12.3"
  }
 },
 "nbformat": 4,
 "nbformat_minor": 5
}

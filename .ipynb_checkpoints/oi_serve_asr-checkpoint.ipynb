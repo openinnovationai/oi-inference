{
 "cells": [
  {
   "cell_type": "markdown",
   "id": "81121296-ddbf-47a0-aef8-1adda6d9c8fe",
   "metadata": {},
   "source": [
    "### OICM Inference for models deployed with: OI SERVE\n",
    "##### automatic-speech-recognition"
   ]
  },
  {
   "cell_type": "code",
   "execution_count": 25,
   "id": "1a4e4c02-2e4a-4008-a889-93c5b79d1f47",
   "metadata": {},
   "outputs": [],
   "source": [
    "import requests\n",
    "import json\n",
    "import os"
   ]
  },
  {
   "cell_type": "code",
   "execution_count": 41,
   "id": "b727fc24-64e5-411e-83e9-2f9933bc9dd4",
   "metadata": {},
   "outputs": [],
   "source": [
    "api_key = os.getenv('OI_API_KEY') # Your valid api key\n",
    "model_version_id = os.getenv('OI_MODEL_VERSION_ID') # model version id\n",
    "base_url =f\"\" # your valid model url\n",
    "# example: https://inference.{oicm_host}/models/{model_version_id}/proxy/vllm/v1\n",
    "# oicm_host: is the platform url ex: develop.openinnovation.ai\n",
    "\n",
    "base_url = f\"https://inference.develop.openinnovation.ai/models/{model_version_id}/proxy/v1\"\n",
    "\n",
    "headers = {\n",
    "    \"Authorization\": f\"Bearer {api_key}\"\n",
    "}"
   ]
  },
  {
   "cell_type": "markdown",
   "id": "24f5dc6a-7e43-4c14-acf5-d26ded6f1562",
   "metadata": {},
   "source": [
    "#### Using Requests"
   ]
  },
  {
   "cell_type": "code",
   "execution_count": 48,
   "id": "006441a5-1424-4725-a558-966a640e0732",
   "metadata": {},
   "outputs": [
    {
     "data": {
      "text/plain": [
       "{'text': ' Mr. Quilter is the apostle of the middle classes, and we are glad to welcome his gospel.'}"
      ]
     },
     "execution_count": 48,
     "metadata": {},
     "output_type": "execute_result"
    }
   ],
   "source": [
    "audio_file_path = \"./sample.wav\"  # Replace with your actual file path\n",
    "\n",
    "with open(audio_file_path, \"rb\") as audio_file:\n",
    "    files = {\n",
    "        \"file\": audio_file\n",
    "    }\n",
    "\n",
    "    response = requests.post(f\"{base_url}/transcript\", files=files, headers=headers)\n",
    "\n",
    "data = response.json()\n",
    "data"
   ]
  },
  {
   "cell_type": "code",
   "execution_count": null,
   "id": "1475f6e7-82f1-4f38-a67d-0b458674c032",
   "metadata": {},
   "outputs": [],
   "source": []
  }
 ],
 "metadata": {
  "kernelspec": {
   "display_name": "Python 3 (ipykernel)",
   "language": "python",
   "name": "python3"
  },
  "language_info": {
   "codemirror_mode": {
    "name": "ipython",
    "version": 3
   },
   "file_extension": ".py",
   "mimetype": "text/x-python",
   "name": "python",
   "nbconvert_exporter": "python",
   "pygments_lexer": "ipython3",
   "version": "3.12.3"
  }
 },
 "nbformat": 4,
 "nbformat_minor": 5
}

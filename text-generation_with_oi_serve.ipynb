{
 "cells": [
  {
   "cell_type": "markdown",
   "id": "69c02d99-64aa-4970-b597-769fcabbf2c9",
   "metadata": {},
   "source": [
    "### OICM Inference for models deployed with: OI Serve\n",
    "##### OI Serve text-generation deployment id developed for testing models and not recommended to use it in production"
   ]
  },
  {
   "cell_type": "code",
   "execution_count": 5,
   "id": "ef1fd2bd-5f37-43ff-ad8a-0bbd2d93c7f4",
   "metadata": {},
   "outputs": [],
   "source": [
    "import os\n",
    "import requests"
   ]
  },
  {
   "cell_type": "code",
   "execution_count": 45,
   "id": "b727fc24-64e5-411e-83e9-2f9933bc9dd4",
   "metadata": {},
   "outputs": [],
   "source": [
    "api_key = os.getenv('OI_API_KEY') # Your valid api key\n",
    "model_version_id = os.getenv('OI_MODEL_VERSION_ID') # model version id\n",
    "oicm_host = \"develop.openinnovation.ai\"\n",
    "# example: https://inference.{oicm_host}/models/{model_version_id}/proxy/vllm/v1\n",
    "# oicm_host: is the platform url ex: develop.openinnovation.ai\n",
    "\n",
    "base_url = f\"https://inference.{oicm_host}/models/{model_version_id}/proxy/v1\"\n",
    "\n",
    "model_name = \"TinyLlama/TinyLlama-1.1B-Chat-v1.0\"\n",
    "\n",
    "headers = {\n",
    "    \"Authorization\": f\"Bearer {api_key}\"\n",
    "}"
   ]
  },
  {
   "cell_type": "markdown",
   "id": "24f5dc6a-7e43-4c14-acf5-d26ded6f1562",
   "metadata": {},
   "source": [
    "### Using requests"
   ]
  },
  {
   "cell_type": "code",
   "execution_count": 48,
   "id": "d62f4c87-0715-4f12-b919-ab7a11aae5ca",
   "metadata": {},
   "outputs": [],
   "source": [
    "from transformers import AutoTokenizer\n",
    "\n",
    "model_tokenizer = AutoTokenizer.from_pretrained(model_name)"
   ]
  },
  {
   "cell_type": "code",
   "execution_count": 49,
   "id": "51e89bb1-e1c1-42ac-b8ad-08b32f96bd66",
   "metadata": {},
   "outputs": [
    {
     "data": {
      "text/plain": [
       "\"<|system|>\\nYou're a helpful assistant</s>\\n<|user|>\\nExplain gravity to a 6-year old child</s>\\n\""
      ]
     },
     "execution_count": 49,
     "metadata": {},
     "output_type": "execute_result"
    }
   ],
   "source": [
    "messages = [\n",
    "    {\n",
    "        \"role\": \"system\",\n",
    "        \"content\": \"You're a helpful assistant\"\n",
    "    },\n",
    "    {\n",
    "        \"role\": \"user\",\n",
    "        \"content\": \"Explain gravity to a 6-year old child\"\n",
    "    }\n",
    "]\n",
    "\n",
    "prompt = model_tokenizer.apply_chat_template(messages, tokenize=False)\n",
    "\n",
    "prompt"
   ]
  },
  {
   "cell_type": "code",
   "execution_count": 60,
   "id": "006441a5-1424-4725-a558-966a640e0732",
   "metadata": {},
   "outputs": [
    {
     "name": "stdout",
     "output_type": "stream",
     "text": [
      "<|assistant|>Gravity is the force that pulls objects towards the Earth. It is a natural phenomenon that affects all objects in the universe, including planets, stars, and even the Earth itself.When an object is lifted off the ground, it experiences a force called gravitational force. This force is caused by the Earth's gravity, which is a massive force that pulls the Earth towards the center of the Earth. The Earth's gravity is so strong that it can pull an object up to 6,000 times its own weight.The force of gravity is measured in newtons (N). One newton is the force that would be required to lift a mass of one kilogram (kg) off the ground. The force of gravity is also measured in kilograms per square meter (kg/m²).Gravity is a fundamental force that is present in all objects in the universe. It is responsible for the movement of planets, stars, and even the Earth itself. It is also responsible for the movement of objects in space, such as the Moon and the planets.In everyday life, gravity plays a significant role in our daily activities"
     ]
    }
   ],
   "source": [
    "payload = {\n",
    "    \"inputs\": prompt,\n",
    "    \"max_new_tokens\": 256,\n",
    "    \"temperature\": 0.7,\n",
    "    \"stream\": True\n",
    "}\n",
    "\n",
    "response = requests.post(f\"{base_url}/completions\", json=payload, headers=headers, stream=True)\n",
    "\n",
    "for token in response.iter_lines():\n",
    "    try:\n",
    "        decoded_token = token.decode(\"UTF-8\")\n",
    "        print(decoded_token, end=\"\", flush=True)\n",
    "    except:\n",
    "        pass"
   ]
  }
 ],
 "metadata": {
  "kernelspec": {
   "display_name": "Python 3 (ipykernel)",
   "language": "python",
   "name": "python3"
  },
  "language_info": {
   "codemirror_mode": {
    "name": "ipython",
    "version": 3
   },
   "file_extension": ".py",
   "mimetype": "text/x-python",
   "name": "python",
   "nbconvert_exporter": "python",
   "pygments_lexer": "ipython3",
   "version": "3.12.3"
  }
 },
 "nbformat": 4,
 "nbformat_minor": 5
}

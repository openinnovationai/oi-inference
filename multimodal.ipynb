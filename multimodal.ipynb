{
 "cells": [
  {
   "cell_type": "markdown",
   "id": "69c02d99-64aa-4970-b597-769fcabbf2c9",
   "metadata": {},
   "source": [
    "### OICM Inference for models deployed with: vLLM, TGI ans SGLang\n",
    "##### ref: https://docs.vllm.ai/en/latest/serving/openai_compatible_server.html"
   ]
  },
  {
   "cell_type": "code",
   "execution_count": 19,
   "id": "1a4e4c02-2e4a-4008-a889-93c5b79d1f47",
   "metadata": {},
   "outputs": [],
   "source": [
    "import os\n",
    "from openai import OpenAI"
   ]
  },
  {
   "cell_type": "code",
   "execution_count": 24,
   "id": "b727fc24-64e5-411e-83e9-2f9933bc9dd4",
   "metadata": {},
   "outputs": [],
   "source": [
    "api_key = os.getenv('OI_API_KEY') # Your valid api key\n",
    "deployment_id = os.getenv('OI_DEPLOYMENT_ID') # deployment id\n",
    "base_url = f\"https://inference.stg.openinnovation.ai/models/{deployment_id}/proxy/v1\" # change \"stg\" to your environment\n",
    "model_name = \"Qwen/Qwen2.5-VL-3B-Instruct\" # change to your model name\n"
   ]
  },
  {
   "cell_type": "markdown",
   "id": "75afc1b8-0502-4b77-aa89-abaf0a633218",
   "metadata": {},
   "source": [
    "### Using OpenAI API Client"
   ]
  },
  {
   "cell_type": "code",
   "execution_count": 25,
   "id": "75aa2e2f-46ab-4775-b9ff-78755da1c7fe",
   "metadata": {},
   "outputs": [],
   "source": [
    "client = OpenAI(\n",
    "    base_url=base_url,\n",
    "    api_key=api_key\n",
    ")"
   ]
  },
  {
   "cell_type": "code",
   "execution_count": 36,
   "id": "ddc8dc63",
   "metadata": {},
   "outputs": [],
   "source": [
    "import base64\n",
    "\n",
    "def encode_base64_content(image_path: str) -> str:\n",
    "    \"\"\"Encode an image from a local path to base64 format.\"\"\"\n",
    "    try:\n",
    "        with open(image_path, \"rb\") as image_file:\n",
    "            result = base64.b64encode(image_file.read()).decode('utf-8')\n",
    "    except Exception as e:\n",
    "        print(f\"Failed to encode image from {image_path}: {e}\")\n",
    "        result = \"\"\n",
    "\n",
    "    return result"
   ]
  },
  {
   "cell_type": "code",
   "execution_count": 37,
   "id": "5799144b-a592-4e12-ad2e-dcb2c341b5f4",
   "metadata": {},
   "outputs": [
    {
     "name": "stdout",
     "output_type": "stream",
     "text": [
      "The image depicts the Great Pyramids of Giza in Egypt. These are three of the largest and most well-known pyramids in the world. The surrounding area appears to be a sandy desert with minimal vegetation. There are a few people and a camel in the foreground, suggesting that the site is a popular tourist destination. The sky is clear and blue, indicating a sunny day."
     ]
    }
   ],
   "source": [
    "image_base64 = encode_base64_content(\"./image.jpg\")\n",
    "\n",
    "stream = client.chat.completions.create(\n",
    "        model=model_name,\n",
    "        messages=[{\n",
    "            \"role\":\n",
    "            \"user\",\n",
    "            \"content\": [\n",
    "                {\n",
    "                    \"type\": \"text\",\n",
    "                    \"text\": \"What's in this image?\"\n",
    "                },\n",
    "                {\n",
    "                    \"type\": \"image_url\",\n",
    "                    \"image_url\": {\n",
    "                        \"url\": f\"data:image/jpeg;base64,{image_base64}\"\n",
    "                    },\n",
    "                },\n",
    "            ],\n",
    "        }],\n",
    "            max_tokens=256,\n",
    "            temperature=0.7,\n",
    "            stream=True\n",
    "        )\n",
    "        \n",
    "for chunk in stream:\n",
    "    if chunk.choices[0].delta.content is not None:\n",
    "        print(chunk.choices[0].delta.content, end=\"\", flush=True)"
   ]
  },
  {
   "cell_type": "code",
   "execution_count": null,
   "id": "1d5d801d",
   "metadata": {},
   "outputs": [],
   "source": []
  }
 ],
 "metadata": {
  "kernelspec": {
   "display_name": "Python 3",
   "language": "python",
   "name": "python3"
  },
  "language_info": {
   "codemirror_mode": {
    "name": "ipython",
    "version": 3
   },
   "file_extension": ".py",
   "mimetype": "text/x-python",
   "name": "python",
   "nbconvert_exporter": "python",
   "pygments_lexer": "ipython3",
   "version": "3.12.4"
  }
 },
 "nbformat": 4,
 "nbformat_minor": 5
}
